{
 "cells": [
  {
   "cell_type": "markdown",
   "metadata": {},
   "source": [
    "## Covid 19 \n",
    "- dưới đây là các bước tải dữ liệu từ kaggle về và làm sạch dữ liệu \n",
    "- tính giá trị mean, max, min, std, median \n",
    "- xử lí các cột có giá trị null \n",
    "- tìm kiếm các hàng trùng lặp "
   ]
  },
  {
   "cell_type": "code",
   "execution_count": 3,
   "metadata": {},
   "outputs": [
    {
     "name": "stdout",
     "output_type": "stream",
     "text": [
      "Path to dataset files: C:\\Users\\aswdw\\.cache\\kagglehub\\datasets\\imdevskp\\corona-virus-report\\versions\\166\n"
     ]
    }
   ],
   "source": [
    "import kagglehub\n",
    "\n",
    "# Download latest version\n",
    "path = kagglehub.dataset_download(\"imdevskp/corona-virus-report\")\n",
    "\n",
    "print(\"Path to dataset files:\", path)"
   ]
  },
  {
   "cell_type": "code",
   "execution_count": 4,
   "metadata": {},
   "outputs": [
    {
     "name": "stdout",
     "output_type": "stream",
     "text": [
      "         Country/Region  Confirmed  Deaths  Recovered  Active  New cases  \\\n",
      "0           Afghanistan      36263    1269      25198    9796        106   \n",
      "1               Albania       4880     144       2745    1991        117   \n",
      "2               Algeria      27973    1163      18837    7973        616   \n",
      "3               Andorra        907      52        803      52         10   \n",
      "4                Angola        950      41        242     667         18   \n",
      "..                  ...        ...     ...        ...     ...        ...   \n",
      "182  West Bank and Gaza      10621      78       3752    6791        152   \n",
      "183      Western Sahara         10       1          8       1          0   \n",
      "184               Yemen       1691     483        833     375         10   \n",
      "185              Zambia       4552     140       2815    1597         71   \n",
      "186            Zimbabwe       2704      36        542    2126        192   \n",
      "\n",
      "     New deaths  New recovered  Deaths / 100 Cases  Recovered / 100 Cases  \\\n",
      "0            10             18                3.50                  69.49   \n",
      "1             6             63                2.95                  56.25   \n",
      "2             8            749                4.16                  67.34   \n",
      "3             0              0                5.73                  88.53   \n",
      "4             1              0                4.32                  25.47   \n",
      "..          ...            ...                 ...                    ...   \n",
      "182           2              0                0.73                  35.33   \n",
      "183           0              0               10.00                  80.00   \n",
      "184           4             36               28.56                  49.26   \n",
      "185           1            465                3.08                  61.84   \n",
      "186           2             24                1.33                  20.04   \n",
      "\n",
      "     Deaths / 100 Recovered  Confirmed last week  1 week change  \\\n",
      "0                      5.04                35526            737   \n",
      "1                      5.25                 4171            709   \n",
      "2                      6.17                23691           4282   \n",
      "3                      6.48                  884             23   \n",
      "4                     16.94                  749            201   \n",
      "..                      ...                  ...            ...   \n",
      "182                    2.08                 8916           1705   \n",
      "183                   12.50                   10              0   \n",
      "184                   57.98                 1619             72   \n",
      "185                    4.97                 3326           1226   \n",
      "186                    6.64                 1713            991   \n",
      "\n",
      "     1 week % increase             WHO Region  \n",
      "0                 2.07  Eastern Mediterranean  \n",
      "1                17.00                 Europe  \n",
      "2                18.07                 Africa  \n",
      "3                 2.60                 Europe  \n",
      "4                26.84                 Africa  \n",
      "..                 ...                    ...  \n",
      "182              19.12  Eastern Mediterranean  \n",
      "183               0.00                 Africa  \n",
      "184               4.45  Eastern Mediterranean  \n",
      "185              36.86                 Africa  \n",
      "186              57.85                 Africa  \n",
      "\n",
      "[187 rows x 15 columns]\n"
     ]
    }
   ],
   "source": [
    "import pandas as pd\n",
    "\n",
    "# Đọc file CSV\n",
    "file_path = \"G:/DATA/nv3/country_wise_latest.csv\"  # Đường dẫn tới file CSV\n",
    "df = pd.read_csv(file_path)\n",
    "\n",
    "# Hiển thị dữ liệu\n",
    "print(df)\n",
    "\n",
    "\n",
    "\n"
   ]
  },
  {
   "cell_type": "code",
   "execution_count": 5,
   "metadata": {},
   "outputs": [
    {
     "name": "stdout",
     "output_type": "stream",
     "text": [
      "        Country/Region  Confirmed  Deaths  Recovered  Active  New cases  \\\n",
      "0          Afghanistan      36263    1269      25198    9796        106   \n",
      "1              Albania       4880     144       2745    1991        117   \n",
      "2              Algeria      27973    1163      18837    7973        616   \n",
      "3              Andorra        907      52        803      52         10   \n",
      "4               Angola        950      41        242     667         18   \n",
      "5  Antigua and Barbuda         86       3         65      18          4   \n",
      "6            Argentina     167416    3059      72575   91782       4890   \n",
      "7              Armenia      37390     711      26665   10014         73   \n",
      "8            Australia      15303     167       9311    5825        368   \n",
      "9              Austria      20558     713      18246    1599         86   \n",
      "\n",
      "   New deaths  New recovered  Deaths / 100 Cases  Recovered / 100 Cases  \\\n",
      "0          10             18                3.50                  69.49   \n",
      "1           6             63                2.95                  56.25   \n",
      "2           8            749                4.16                  67.34   \n",
      "3           0              0                5.73                  88.53   \n",
      "4           1              0                4.32                  25.47   \n",
      "5           0              5                3.49                  75.58   \n",
      "6         120           2057                1.83                  43.35   \n",
      "7           6            187                1.90                  71.32   \n",
      "8           6            137                1.09                  60.84   \n",
      "9           1             37                3.47                  88.75   \n",
      "\n",
      "   Deaths / 100 Recovered  Confirmed last week  1 week change  \\\n",
      "0                    5.04                35526            737   \n",
      "1                    5.25                 4171            709   \n",
      "2                    6.17                23691           4282   \n",
      "3                    6.48                  884             23   \n",
      "4                   16.94                  749            201   \n",
      "5                    4.62                   76             10   \n",
      "6                    4.21               130774          36642   \n",
      "7                    2.67                34981           2409   \n",
      "8                    1.79                12428           2875   \n",
      "9                    3.91                19743            815   \n",
      "\n",
      "   1 week % increase             WHO Region  \n",
      "0               2.07  Eastern Mediterranean  \n",
      "1              17.00                 Europe  \n",
      "2              18.07                 Africa  \n",
      "3               2.60                 Europe  \n",
      "4              26.84                 Africa  \n",
      "5              13.16               Americas  \n",
      "6              28.02               Americas  \n",
      "7               6.89                 Europe  \n",
      "8              23.13        Western Pacific  \n",
      "9               4.13                 Europe  \n"
     ]
    }
   ],
   "source": [
    "print(df.head(10))  "
   ]
  },
  {
   "cell_type": "code",
   "execution_count": 6,
   "metadata": {},
   "outputs": [
    {
     "name": "stdout",
     "output_type": "stream",
     "text": [
      "Số lượng giá trị null trong mỗi cột:\n",
      "Country/Region            0\n",
      "Confirmed                 0\n",
      "Deaths                    0\n",
      "Recovered                 0\n",
      "Active                    0\n",
      "New cases                 0\n",
      "New deaths                0\n",
      "New recovered             0\n",
      "Deaths / 100 Cases        0\n",
      "Recovered / 100 Cases     0\n",
      "Deaths / 100 Recovered    0\n",
      "Confirmed last week       0\n",
      "1 week change             0\n",
      "1 week % increase         0\n",
      "WHO Region                0\n",
      "dtype: int64\n",
      "\n",
      "Các dòng có giá trị null:\n",
      "Empty DataFrame\n",
      "Columns: [Country/Region, Confirmed, Deaths, Recovered, Active, New cases, New deaths, New recovered, Deaths / 100 Cases, Recovered / 100 Cases, Deaths / 100 Recovered, Confirmed last week, 1 week change, 1 week % increase, WHO Region]\n",
      "Index: []\n"
     ]
    }
   ],
   "source": [
    "# Kiểm tra giá trị null\n",
    "print(\"Số lượng giá trị null trong mỗi cột:\")\n",
    "print(df.isnull().sum())  # Đếm số giá trị null trong mỗi cột\n",
    "\n",
    "# Hiển thị các dòng có chứa giá trị null\n",
    "print(\"\\nCác dòng có giá trị null:\")\n",
    "print(df[df.isnull().any(axis=1)])"
   ]
  },
  {
   "cell_type": "markdown",
   "metadata": {},
   "source": [
    "## Tính Min Max Mean Median Std\n"
   ]
  },
  {
   "cell_type": "code",
   "execution_count": 9,
   "metadata": {},
   "outputs": [
    {
     "name": "stdout",
     "output_type": "stream",
     "text": [
      "Giá trị nhỏ nhất:\n",
      " Confirmed                 10.00\n",
      "Deaths                     0.00\n",
      "Recovered                  0.00\n",
      "Active                     0.00\n",
      "New cases                  0.00\n",
      "New deaths                 0.00\n",
      "New recovered              0.00\n",
      "Deaths / 100 Cases         0.00\n",
      "Recovered / 100 Cases      0.00\n",
      "Deaths / 100 Recovered     0.00\n",
      "Confirmed last week       10.00\n",
      "1 week change            -47.00\n",
      "1 week % increase         -3.84\n",
      "dtype: float64\n",
      "Giá trị lớn nhất:\n",
      " Confirmed                 4290259.00\n",
      "Deaths                     148011.00\n",
      "Recovered                 1846641.00\n",
      "Active                    2816444.00\n",
      "New cases                   56336.00\n",
      "New deaths                   1076.00\n",
      "New recovered               33728.00\n",
      "Deaths / 100 Cases             28.56\n",
      "Recovered / 100 Cases         100.00\n",
      "Deaths / 100 Recovered           inf\n",
      "Confirmed last week       3834677.00\n",
      "1 week change              455582.00\n",
      "1 week % increase             226.32\n",
      "dtype: float64\n",
      "Giá trị trung bình:\n",
      " Confirmed                 8.813094e+04\n",
      "Deaths                    3.497519e+03\n",
      "Recovered                 5.063148e+04\n",
      "Active                    3.400194e+04\n",
      "New cases                 1.222957e+03\n",
      "New deaths                2.895722e+01\n",
      "New recovered             9.338128e+02\n",
      "Deaths / 100 Cases        3.019519e+00\n",
      "Recovered / 100 Cases     6.482053e+01\n",
      "Deaths / 100 Recovered             inf\n",
      "Confirmed last week       7.868248e+04\n",
      "1 week change             9.448460e+03\n",
      "1 week % increase         1.360620e+01\n",
      "dtype: float64\n",
      "Giá trị trung vị:\n",
      " Confirmed                 5059.00\n",
      "Deaths                     108.00\n",
      "Recovered                 2815.00\n",
      "Active                    1600.00\n",
      "New cases                   49.00\n",
      "New deaths                   1.00\n",
      "New recovered               22.00\n",
      "Deaths / 100 Cases           2.15\n",
      "Recovered / 100 Cases       71.32\n",
      "Deaths / 100 Recovered       3.62\n",
      "Confirmed last week       5020.00\n",
      "1 week change              432.00\n",
      "1 week % increase            6.89\n",
      "dtype: float64\n",
      "độ lệch chuẩn:\n",
      " Confirmed                 383318.663831\n",
      "Deaths                     14100.002482\n",
      "Recovered                 190188.189643\n",
      "Active                    213326.173371\n",
      "New cases                   5710.374790\n",
      "New deaths                   120.037173\n",
      "New recovered               4197.719635\n",
      "Deaths / 100 Cases             3.454302\n",
      "Recovered / 100 Cases         26.287694\n",
      "Deaths / 100 Recovered              NaN\n",
      "Confirmed last week       338273.676567\n",
      "1 week change              47491.127684\n",
      "1 week % increase             24.509838\n",
      "dtype: float64\n"
     ]
    }
   ],
   "source": [
    "import pandas as pd\n",
    "\n",
    "# Đọc file CSV\n",
    "file_path = \"G:/DATA/nv3/country_wise_latest.csv\"  # Thay bằng đường dẫn file của anh\n",
    "df = pd.read_csv(file_path)\n",
    "\n",
    "# Lọc chỉ các cột số\n",
    "numeric_cols = df.select_dtypes(include='number')\n",
    "\n",
    "#tính giá trị nhỏ nhất \n",
    "min_values = numeric_cols.min()\n",
    "print(\"Giá trị nhỏ nhất:\\n\",min_values)\n",
    "#tính giá trị lớn nhất \n",
    "max_values = numeric_cols.max()\n",
    "print(\"Giá trị lớn nhất:\\n\",max_values)\n",
    "#tính mean(giá trị trung bình ) \n",
    "mean_values = numeric_cols.mean()\n",
    "print(\"Giá trị trung bình:\\n\",mean_values)\n",
    "#tính meadian trung vị \n",
    "median_values = numeric_cols.median()\n",
    "print(\"Giá trị trung vị:\\n\",median_values)\n",
    "#tính độ lệch chuẩn \n",
    "std_values = numeric_cols.std()\n",
    "print(\"độ lệch chuẩn:\\n\",std_values)"
   ]
  },
  {
   "cell_type": "code",
   "execution_count": 10,
   "metadata": {},
   "outputs": [
    {
     "name": "stdout",
     "output_type": "stream",
     "text": [
      "<class 'pandas.core.frame.DataFrame'>\n",
      "RangeIndex: 187 entries, 0 to 186\n",
      "Data columns (total 15 columns):\n",
      " #   Column                  Non-Null Count  Dtype  \n",
      "---  ------                  --------------  -----  \n",
      " 0   Country/Region          187 non-null    object \n",
      " 1   Confirmed               187 non-null    int64  \n",
      " 2   Deaths                  187 non-null    int64  \n",
      " 3   Recovered               187 non-null    int64  \n",
      " 4   Active                  187 non-null    int64  \n",
      " 5   New cases               187 non-null    int64  \n",
      " 6   New deaths              187 non-null    int64  \n",
      " 7   New recovered           187 non-null    int64  \n",
      " 8   Deaths / 100 Cases      187 non-null    float64\n",
      " 9   Recovered / 100 Cases   187 non-null    float64\n",
      " 10  Deaths / 100 Recovered  187 non-null    float64\n",
      " 11  Confirmed last week     187 non-null    int64  \n",
      " 12  1 week change           187 non-null    int64  \n",
      " 13  1 week % increase       187 non-null    float64\n",
      " 14  WHO Region              187 non-null    object \n",
      "dtypes: float64(4), int64(9), object(2)\n",
      "memory usage: 22.0+ KB\n",
      "None\n"
     ]
    }
   ],
   "source": [
    "# in thông tin các cột \n",
    "print(df.info())"
   ]
  },
  {
   "cell_type": "code",
   "execution_count": 11,
   "metadata": {},
   "outputs": [
    {
     "name": "stdout",
     "output_type": "stream",
     "text": [
      "        Country/Region  Confirmed  Deaths  Recovered  Active  New cases  \\\n",
      "0          Afghanistan      36263    1269      25198    9796        106   \n",
      "1              Albania       4880     144       2745    1991        117   \n",
      "2              Algeria      27973    1163      18837    7973        616   \n",
      "3              Andorra        907      52        803      52         10   \n",
      "4               Angola        950      41        242     667         18   \n",
      "5  Antigua and Barbuda         86       3         65      18          4   \n",
      "6            Argentina     167416    3059      72575   91782       4890   \n",
      "7              Armenia      37390     711      26665   10014         73   \n",
      "8            Australia      15303     167       9311    5825        368   \n",
      "9              Austria      20558     713      18246    1599         86   \n",
      "\n",
      "   New deaths  New recovered  Deaths / 100 Cases  Recovered / 100 Cases  \\\n",
      "0          10             18                3.50                  69.49   \n",
      "1           6             63                2.95                  56.25   \n",
      "2           8            749                4.16                  67.34   \n",
      "3           0              0                5.73                  88.53   \n",
      "4           1              0                4.32                  25.47   \n",
      "5           0              5                3.49                  75.58   \n",
      "6         120           2057                1.83                  43.35   \n",
      "7           6            187                1.90                  71.32   \n",
      "8           6            137                1.09                  60.84   \n",
      "9           1             37                3.47                  88.75   \n",
      "\n",
      "   Deaths / 100 Recovered  Confirmed last week  1 week change  \\\n",
      "0                    5.04                35526            737   \n",
      "1                    5.25                 4171            709   \n",
      "2                    6.17                23691           4282   \n",
      "3                    6.48                  884             23   \n",
      "4                   16.94                  749            201   \n",
      "5                    4.62                   76             10   \n",
      "6                    4.21               130774          36642   \n",
      "7                    2.67                34981           2409   \n",
      "8                    1.79                12428           2875   \n",
      "9                    3.91                19743            815   \n",
      "\n",
      "   1 week % increase             WHO Region  \n",
      "0               2.07  Eastern Mediterranean  \n",
      "1              17.00                 Europe  \n",
      "2              18.07                 Africa  \n",
      "3               2.60                 Europe  \n",
      "4              26.84                 Africa  \n",
      "5              13.16               Americas  \n",
      "6              28.02               Americas  \n",
      "7               6.89                 Europe  \n",
      "8              23.13        Western Pacific  \n",
      "9               4.13                 Europe  \n"
     ]
    }
   ],
   "source": [
    "#in ra 10 dòng đầu \n",
    "\n",
    "print(df.head(10))"
   ]
  },
  {
   "cell_type": "code",
   "execution_count": 12,
   "metadata": {},
   "outputs": [
    {
     "name": "stdout",
     "output_type": "stream",
     "text": [
      "         Country/Region  Confirmed  Deaths  Recovered  Active  New cases  \\\n",
      "177      United Kingdom     301708   45844       1437  254427        688   \n",
      "178             Uruguay       1202      35        951     216         10   \n",
      "179          Uzbekistan      21209     121      11674    9414        678   \n",
      "180           Venezuela      15988     146       9959    5883        525   \n",
      "181             Vietnam        431       0        365      66         11   \n",
      "182  West Bank and Gaza      10621      78       3752    6791        152   \n",
      "183      Western Sahara         10       1          8       1          0   \n",
      "184               Yemen       1691     483        833     375         10   \n",
      "185              Zambia       4552     140       2815    1597         71   \n",
      "186            Zimbabwe       2704      36        542    2126        192   \n",
      "\n",
      "     New deaths  New recovered  Deaths / 100 Cases  Recovered / 100 Cases  \\\n",
      "177           7              3               15.19                   0.48   \n",
      "178           1              3                2.91                  79.12   \n",
      "179           5            569                0.57                  55.04   \n",
      "180           4            213                0.91                  62.29   \n",
      "181           0              0                0.00                  84.69   \n",
      "182           2              0                0.73                  35.33   \n",
      "183           0              0               10.00                  80.00   \n",
      "184           4             36               28.56                  49.26   \n",
      "185           1            465                3.08                  61.84   \n",
      "186           2             24                1.33                  20.04   \n",
      "\n",
      "     Deaths / 100 Recovered  Confirmed last week  1 week change  \\\n",
      "177                 3190.26               296944           4764   \n",
      "178                    3.68                 1064            138   \n",
      "179                    1.04                17149           4060   \n",
      "180                    1.47                12334           3654   \n",
      "181                    0.00                  384             47   \n",
      "182                    2.08                 8916           1705   \n",
      "183                   12.50                   10              0   \n",
      "184                   57.98                 1619             72   \n",
      "185                    4.97                 3326           1226   \n",
      "186                    6.64                 1713            991   \n",
      "\n",
      "     1 week % increase             WHO Region  \n",
      "177               1.60                 Europe  \n",
      "178              12.97               Americas  \n",
      "179              23.67                 Europe  \n",
      "180              29.63               Americas  \n",
      "181              12.24        Western Pacific  \n",
      "182              19.12  Eastern Mediterranean  \n",
      "183               0.00                 Africa  \n",
      "184               4.45  Eastern Mediterranean  \n",
      "185              36.86                 Africa  \n",
      "186              57.85                 Africa  \n"
     ]
    }
   ],
   "source": [
    "# in 10 dòng cuối \n",
    "print(df.tail(10))"
   ]
  },
  {
   "cell_type": "code",
   "execution_count": 13,
   "metadata": {},
   "outputs": [
    {
     "name": "stdout",
     "output_type": "stream",
     "text": [
      "0\n"
     ]
    }
   ],
   "source": [
    "#tìm các hàng trùng lặp \n",
    "duplicated = df[df.duplicated()]\n",
    "# đếm số lượng hàng trùng lặp \n",
    "print(len(duplicated))"
   ]
  },
  {
   "cell_type": "code",
   "execution_count": 14,
   "metadata": {},
   "outputs": [
    {
     "name": "stdout",
     "output_type": "stream",
     "text": [
      "          Confirmed         Deaths     Recovered        Active     New cases  \\\n",
      "count  1.870000e+02     187.000000  1.870000e+02  1.870000e+02    187.000000   \n",
      "mean   8.813094e+04    3497.518717  5.063148e+04  3.400194e+04   1222.957219   \n",
      "std    3.833187e+05   14100.002482  1.901882e+05  2.133262e+05   5710.374790   \n",
      "min    1.000000e+01       0.000000  0.000000e+00  0.000000e+00      0.000000   \n",
      "25%    1.114000e+03      18.500000  6.265000e+02  1.415000e+02      4.000000   \n",
      "50%    5.059000e+03     108.000000  2.815000e+03  1.600000e+03     49.000000   \n",
      "75%    4.046050e+04     734.000000  2.260600e+04  9.149000e+03    419.500000   \n",
      "max    4.290259e+06  148011.000000  1.846641e+06  2.816444e+06  56336.000000   \n",
      "\n",
      "        New deaths  New recovered  Deaths / 100 Cases  Recovered / 100 Cases  \\\n",
      "count   187.000000     187.000000          187.000000             187.000000   \n",
      "mean     28.957219     933.812834            3.019519              64.820535   \n",
      "std     120.037173    4197.719635            3.454302              26.287694   \n",
      "min       0.000000       0.000000            0.000000               0.000000   \n",
      "25%       0.000000       0.000000            0.945000              48.770000   \n",
      "50%       1.000000      22.000000            2.150000              71.320000   \n",
      "75%       6.000000     221.000000            3.875000              86.885000   \n",
      "max    1076.000000   33728.000000           28.560000             100.000000   \n",
      "\n",
      "       Deaths / 100 Recovered  Confirmed last week  1 week change  \\\n",
      "count                  187.00         1.870000e+02     187.000000   \n",
      "mean                      inf         7.868248e+04    9448.459893   \n",
      "std                       NaN         3.382737e+05   47491.127684   \n",
      "min                      0.00         1.000000e+01     -47.000000   \n",
      "25%                      1.45         1.051500e+03      49.000000   \n",
      "50%                      3.62         5.020000e+03     432.000000   \n",
      "75%                      6.44         3.708050e+04    3172.000000   \n",
      "max                       inf         3.834677e+06  455582.000000   \n",
      "\n",
      "       1 week % increase  \n",
      "count         187.000000  \n",
      "mean           13.606203  \n",
      "std            24.509838  \n",
      "min            -3.840000  \n",
      "25%             2.775000  \n",
      "50%             6.890000  \n",
      "75%            16.855000  \n",
      "max           226.320000  \n"
     ]
    }
   ],
   "source": [
    "print(df.describe())"
   ]
  },
  {
   "cell_type": "markdown",
   "metadata": {},
   "source": [
    "## Thực hiện xóa các cột không cần thiết \n",
    "- đọc file \n",
    "- dùng hàm drop để xóa các cột không cần thiết \n",
    "- sau đó ghi đè vào file csv và thay đổi trong file "
   ]
  },
  {
   "cell_type": "code",
   "execution_count": null,
   "metadata": {},
   "outputs": [],
   "source": []
  },
  {
   "cell_type": "markdown",
   "metadata": {},
   "source": []
  },
  {
   "cell_type": "code",
   "execution_count": 34,
   "metadata": {},
   "outputs": [
    {
     "name": "stdout",
     "output_type": "stream",
     "text": [
      "Danh sách cột ban đầu: Index(['Unnamed: 0', 'Country/Region', 'Confirmed', 'Deaths', 'Recovered',\n",
      "       'Active', 'New cases', 'New deaths', 'New recovered',\n",
      "       'Recovered / 100 Cases', 'Confirmed last week', '1 week change',\n",
      "       '1 week % increase', 'WHO Region'],\n",
      "      dtype='object')\n",
      "Danh sách cột sau khi xóa: Index(['Unnamed: 0', 'Country/Region', 'Confirmed', 'Deaths', 'Recovered',\n",
      "       'New cases', 'New deaths', 'New recovered', '1 week % increase',\n",
      "       'WHO Region'],\n",
      "      dtype='object')\n"
     ]
    }
   ],
   "source": [
    "# Đọc file CSV\n",
    "df = pd.read_csv(\"G:/DATA/nv3/country_wise_latest.csv\")\n",
    "\n",
    "# In danh sách cột để kiểm tra\n",
    "print(\"Danh sách cột ban đầu:\", df.columns)\n",
    "\n",
    "# Xóa cột và lưu thay đổi vào DataFrame gốc\n",
    "df.drop(columns=[\"Recovered / 100 Cases\", \"1 week change\", \"Active\", \"Confirmed last week\"], inplace=True)\n",
    "\n",
    "# Lưu DataFrame đã chỉnh sửa vào file CSV\n",
    "df.to_csv(\"G:/DATA/nv3/country_wise_latest.csv\", index=False)\n",
    "\n",
    "# In danh sách cột sau khi xóa\n",
    "print(\"Danh sách cột sau khi xóa:\", df.columns)"
   ]
  },
  {
   "cell_type": "code",
   "execution_count": 27,
   "metadata": {},
   "outputs": [
    {
     "ename": "KeyError",
     "evalue": "\"['Deaths / 100 Cases', 'Deaths / 100 Recovered', ''] not found in axis\"",
     "output_type": "error",
     "traceback": [
      "\u001b[1;31m---------------------------------------------------------------------------\u001b[0m",
      "\u001b[1;31mKeyError\u001b[0m                                  Traceback (most recent call last)",
      "Cell \u001b[1;32mIn[27], line 5\u001b[0m\n\u001b[0;32m      2\u001b[0m df \u001b[38;5;241m=\u001b[39m pd\u001b[38;5;241m.\u001b[39mread_csv(\u001b[38;5;124m\"\u001b[39m\u001b[38;5;124mG:/DATA/nv3/country_wise_latest.csv\u001b[39m\u001b[38;5;124m\"\u001b[39m)  \u001b[38;5;66;03m# Thay \"G:/DATA/nv3/country_wise_latest.csv\" bằng tên file của bạn\u001b[39;00m\n\u001b[0;32m      4\u001b[0m \u001b[38;5;66;03m# Xóa cột không cần thiết\u001b[39;00m\n\u001b[1;32m----> 5\u001b[0m \u001b[43mdf\u001b[49m\u001b[38;5;241;43m.\u001b[39;49m\u001b[43mdrop\u001b[49m\u001b[43m(\u001b[49m\u001b[43mcolumns\u001b[49m\u001b[38;5;241;43m=\u001b[39;49m\u001b[43m[\u001b[49m\u001b[38;5;124;43m\"\u001b[39;49m\u001b[38;5;124;43mDeaths / 100 Cases\u001b[39;49m\u001b[38;5;124;43m\"\u001b[39;49m\u001b[43m,\u001b[49m\u001b[43m \u001b[49m\u001b[38;5;124;43m\"\u001b[39;49m\u001b[38;5;124;43mDeaths / 100 Recovered\u001b[39;49m\u001b[38;5;124;43m\"\u001b[39;49m\u001b[43m,\u001b[49m\u001b[38;5;124;43m\"\u001b[39;49m\u001b[38;5;124;43m\"\u001b[39;49m\u001b[43m]\u001b[49m\u001b[43m,\u001b[49m\u001b[43m \u001b[49m\u001b[43minplace\u001b[49m\u001b[38;5;241;43m=\u001b[39;49m\u001b[38;5;28;43;01mTrue\u001b[39;49;00m\u001b[43m)\u001b[49m\n\u001b[0;32m      7\u001b[0m \u001b[38;5;66;03m# Lưu thay đổi vào file CSV (ghi đè file cũ)\u001b[39;00m\n\u001b[0;32m      8\u001b[0m df\u001b[38;5;241m.\u001b[39mto_csv(\u001b[38;5;124m\"\u001b[39m\u001b[38;5;124mG:/DATA/nv3/country_wise_latest.csv\u001b[39m\u001b[38;5;124m\"\u001b[39m, index\u001b[38;5;241m=\u001b[39m\u001b[38;5;28;01mFalse\u001b[39;00m)  \u001b[38;5;66;03m# index=False để không lưu cột chỉ mục\u001b[39;00m\n",
      "File \u001b[1;32mc:\\Users\\aswdw\\anaconda3\\Lib\\site-packages\\pandas\\core\\frame.py:5581\u001b[0m, in \u001b[0;36mDataFrame.drop\u001b[1;34m(self, labels, axis, index, columns, level, inplace, errors)\u001b[0m\n\u001b[0;32m   5433\u001b[0m \u001b[38;5;28;01mdef\u001b[39;00m \u001b[38;5;21mdrop\u001b[39m(\n\u001b[0;32m   5434\u001b[0m     \u001b[38;5;28mself\u001b[39m,\n\u001b[0;32m   5435\u001b[0m     labels: IndexLabel \u001b[38;5;241m|\u001b[39m \u001b[38;5;28;01mNone\u001b[39;00m \u001b[38;5;241m=\u001b[39m \u001b[38;5;28;01mNone\u001b[39;00m,\n\u001b[1;32m   (...)\u001b[0m\n\u001b[0;32m   5442\u001b[0m     errors: IgnoreRaise \u001b[38;5;241m=\u001b[39m \u001b[38;5;124m\"\u001b[39m\u001b[38;5;124mraise\u001b[39m\u001b[38;5;124m\"\u001b[39m,\n\u001b[0;32m   5443\u001b[0m ) \u001b[38;5;241m-\u001b[39m\u001b[38;5;241m>\u001b[39m DataFrame \u001b[38;5;241m|\u001b[39m \u001b[38;5;28;01mNone\u001b[39;00m:\n\u001b[0;32m   5444\u001b[0m \u001b[38;5;250m    \u001b[39m\u001b[38;5;124;03m\"\"\"\u001b[39;00m\n\u001b[0;32m   5445\u001b[0m \u001b[38;5;124;03m    Drop specified labels from rows or columns.\u001b[39;00m\n\u001b[0;32m   5446\u001b[0m \n\u001b[1;32m   (...)\u001b[0m\n\u001b[0;32m   5579\u001b[0m \u001b[38;5;124;03m            weight  1.0     0.8\u001b[39;00m\n\u001b[0;32m   5580\u001b[0m \u001b[38;5;124;03m    \"\"\"\u001b[39;00m\n\u001b[1;32m-> 5581\u001b[0m     \u001b[38;5;28;01mreturn\u001b[39;00m \u001b[38;5;28;43msuper\u001b[39;49m\u001b[43m(\u001b[49m\u001b[43m)\u001b[49m\u001b[38;5;241;43m.\u001b[39;49m\u001b[43mdrop\u001b[49m\u001b[43m(\u001b[49m\n\u001b[0;32m   5582\u001b[0m \u001b[43m        \u001b[49m\u001b[43mlabels\u001b[49m\u001b[38;5;241;43m=\u001b[39;49m\u001b[43mlabels\u001b[49m\u001b[43m,\u001b[49m\n\u001b[0;32m   5583\u001b[0m \u001b[43m        \u001b[49m\u001b[43maxis\u001b[49m\u001b[38;5;241;43m=\u001b[39;49m\u001b[43maxis\u001b[49m\u001b[43m,\u001b[49m\n\u001b[0;32m   5584\u001b[0m \u001b[43m        \u001b[49m\u001b[43mindex\u001b[49m\u001b[38;5;241;43m=\u001b[39;49m\u001b[43mindex\u001b[49m\u001b[43m,\u001b[49m\n\u001b[0;32m   5585\u001b[0m \u001b[43m        \u001b[49m\u001b[43mcolumns\u001b[49m\u001b[38;5;241;43m=\u001b[39;49m\u001b[43mcolumns\u001b[49m\u001b[43m,\u001b[49m\n\u001b[0;32m   5586\u001b[0m \u001b[43m        \u001b[49m\u001b[43mlevel\u001b[49m\u001b[38;5;241;43m=\u001b[39;49m\u001b[43mlevel\u001b[49m\u001b[43m,\u001b[49m\n\u001b[0;32m   5587\u001b[0m \u001b[43m        \u001b[49m\u001b[43minplace\u001b[49m\u001b[38;5;241;43m=\u001b[39;49m\u001b[43minplace\u001b[49m\u001b[43m,\u001b[49m\n\u001b[0;32m   5588\u001b[0m \u001b[43m        \u001b[49m\u001b[43merrors\u001b[49m\u001b[38;5;241;43m=\u001b[39;49m\u001b[43merrors\u001b[49m\u001b[43m,\u001b[49m\n\u001b[0;32m   5589\u001b[0m \u001b[43m    \u001b[49m\u001b[43m)\u001b[49m\n",
      "File \u001b[1;32mc:\\Users\\aswdw\\anaconda3\\Lib\\site-packages\\pandas\\core\\generic.py:4788\u001b[0m, in \u001b[0;36mNDFrame.drop\u001b[1;34m(self, labels, axis, index, columns, level, inplace, errors)\u001b[0m\n\u001b[0;32m   4786\u001b[0m \u001b[38;5;28;01mfor\u001b[39;00m axis, labels \u001b[38;5;129;01min\u001b[39;00m axes\u001b[38;5;241m.\u001b[39mitems():\n\u001b[0;32m   4787\u001b[0m     \u001b[38;5;28;01mif\u001b[39;00m labels \u001b[38;5;129;01mis\u001b[39;00m \u001b[38;5;129;01mnot\u001b[39;00m \u001b[38;5;28;01mNone\u001b[39;00m:\n\u001b[1;32m-> 4788\u001b[0m         obj \u001b[38;5;241m=\u001b[39m \u001b[43mobj\u001b[49m\u001b[38;5;241;43m.\u001b[39;49m\u001b[43m_drop_axis\u001b[49m\u001b[43m(\u001b[49m\u001b[43mlabels\u001b[49m\u001b[43m,\u001b[49m\u001b[43m \u001b[49m\u001b[43maxis\u001b[49m\u001b[43m,\u001b[49m\u001b[43m \u001b[49m\u001b[43mlevel\u001b[49m\u001b[38;5;241;43m=\u001b[39;49m\u001b[43mlevel\u001b[49m\u001b[43m,\u001b[49m\u001b[43m \u001b[49m\u001b[43merrors\u001b[49m\u001b[38;5;241;43m=\u001b[39;49m\u001b[43merrors\u001b[49m\u001b[43m)\u001b[49m\n\u001b[0;32m   4790\u001b[0m \u001b[38;5;28;01mif\u001b[39;00m inplace:\n\u001b[0;32m   4791\u001b[0m     \u001b[38;5;28mself\u001b[39m\u001b[38;5;241m.\u001b[39m_update_inplace(obj)\n",
      "File \u001b[1;32mc:\\Users\\aswdw\\anaconda3\\Lib\\site-packages\\pandas\\core\\generic.py:4830\u001b[0m, in \u001b[0;36mNDFrame._drop_axis\u001b[1;34m(self, labels, axis, level, errors, only_slice)\u001b[0m\n\u001b[0;32m   4828\u001b[0m         new_axis \u001b[38;5;241m=\u001b[39m axis\u001b[38;5;241m.\u001b[39mdrop(labels, level\u001b[38;5;241m=\u001b[39mlevel, errors\u001b[38;5;241m=\u001b[39merrors)\n\u001b[0;32m   4829\u001b[0m     \u001b[38;5;28;01melse\u001b[39;00m:\n\u001b[1;32m-> 4830\u001b[0m         new_axis \u001b[38;5;241m=\u001b[39m \u001b[43maxis\u001b[49m\u001b[38;5;241;43m.\u001b[39;49m\u001b[43mdrop\u001b[49m\u001b[43m(\u001b[49m\u001b[43mlabels\u001b[49m\u001b[43m,\u001b[49m\u001b[43m \u001b[49m\u001b[43merrors\u001b[49m\u001b[38;5;241;43m=\u001b[39;49m\u001b[43merrors\u001b[49m\u001b[43m)\u001b[49m\n\u001b[0;32m   4831\u001b[0m     indexer \u001b[38;5;241m=\u001b[39m axis\u001b[38;5;241m.\u001b[39mget_indexer(new_axis)\n\u001b[0;32m   4833\u001b[0m \u001b[38;5;66;03m# Case for non-unique axis\u001b[39;00m\n\u001b[0;32m   4834\u001b[0m \u001b[38;5;28;01melse\u001b[39;00m:\n",
      "File \u001b[1;32mc:\\Users\\aswdw\\anaconda3\\Lib\\site-packages\\pandas\\core\\indexes\\base.py:7070\u001b[0m, in \u001b[0;36mIndex.drop\u001b[1;34m(self, labels, errors)\u001b[0m\n\u001b[0;32m   7068\u001b[0m \u001b[38;5;28;01mif\u001b[39;00m mask\u001b[38;5;241m.\u001b[39many():\n\u001b[0;32m   7069\u001b[0m     \u001b[38;5;28;01mif\u001b[39;00m errors \u001b[38;5;241m!=\u001b[39m \u001b[38;5;124m\"\u001b[39m\u001b[38;5;124mignore\u001b[39m\u001b[38;5;124m\"\u001b[39m:\n\u001b[1;32m-> 7070\u001b[0m         \u001b[38;5;28;01mraise\u001b[39;00m \u001b[38;5;167;01mKeyError\u001b[39;00m(\u001b[38;5;124mf\u001b[39m\u001b[38;5;124m\"\u001b[39m\u001b[38;5;132;01m{\u001b[39;00mlabels[mask]\u001b[38;5;241m.\u001b[39mtolist()\u001b[38;5;132;01m}\u001b[39;00m\u001b[38;5;124m not found in axis\u001b[39m\u001b[38;5;124m\"\u001b[39m)\n\u001b[0;32m   7071\u001b[0m     indexer \u001b[38;5;241m=\u001b[39m indexer[\u001b[38;5;241m~\u001b[39mmask]\n\u001b[0;32m   7072\u001b[0m \u001b[38;5;28;01mreturn\u001b[39;00m \u001b[38;5;28mself\u001b[39m\u001b[38;5;241m.\u001b[39mdelete(indexer)\n",
      "\u001b[1;31mKeyError\u001b[0m: \"['Deaths / 100 Cases', 'Deaths / 100 Recovered', ''] not found in axis\""
     ]
    }
   ],
   "source": [
    "# Đọc file CSV\n",
    "df = pd.read_csv(\"G:/DATA/nv3/country_wise_latest.csv\")  # Thay \"G:/DATA/nv3/country_wise_latest.csv\" bằng tên file của bạn\n",
    "\n",
    "# Xóa cột không cần thiết\n",
    "df.drop(columns=[\"Deaths / 100 Cases\", \"Deaths / 100 Recovered\",\"\"], inplace=True)\n",
    "\n",
    "# Lưu thay đổi vào file CSV (ghi đè file cũ)\n",
    "df.to_csv(\"G:/DATA/nv3/country_wise_latest.csv\", index=False)  # index=False để không lưu cột chỉ mục\n",
    "\n",
    "# Kiểm tra lại\n",
    "print(\"Các cột sau khi xóa:\")\n",
    "print(df.head())"
   ]
  },
  {
   "cell_type": "markdown",
   "metadata": {},
   "source": [
    "## Biểu đồ tương quan heatmap \n",
    "-Mối tương quan mạnh (gần 1):\n",
    "\n",
    "Các cột như Confirmed, Deaths, Recovered, New cases, và New recovered đều có mối tương quan mạnh mẽ với nhau. Điều này cho thấy khi số ca nhiễm tăng, số ca tử vong và số ca hồi phục cũng có xu hướng tăng theo.\n",
    "Đặc biệt, Confirmed và Deaths có hệ số tương quan cao (~0.93), chứng minh rằng số ca nhiễm có liên hệ mật thiết đến số ca tử vong.\n",
    "\n",
    "-Mối tương quan thấp (gần 0):\n",
    "\n",
    "1 week % increase có mối tương quan yếu hoặc gần như không có tương quan với hầu hết các cột khác. Điều này cho thấy tỷ lệ tăng trưởng hàng tuần không bị ảnh hưởng nhiều bởi các yếu tố khác trong dataset.\n",
    "\n",
    "-Mối tương quan âm (gần -1):\n",
    "\n",
    "Hầu như không có mối tương quan âm rõ rệt nào trong dataset này.\n",
    "\n",
    "-Nhận xét tổng quan:\n",
    "\n",
    "Các biến Confirmed, Deaths, Recovered, New cases, và New recovered là những yếu tố chính ảnh hưởng đến tình hình dịch bệnh.\n",
    "Bạn có thể tập trung phân tích sâu hơn vào các mối quan hệ này nếu muốn xây dựng mô hình dự báo hoặc phân tích ảnh hưởng của dịch bệnh.\n",
    "Các biến có tương quan yếu như 1 week % increase có thể được cân nhắc loại bỏ nếu không đóng góp ý nghĩa vào phân tích của bạn."
   ]
  },
  {
   "cell_type": "code",
   "execution_count": 35,
   "metadata": {},
   "outputs": [
    {
     "data": {
      "image/png": "[encoded data removed]",
      "text/plain": [
       "<Figure size 1000x800 with 2 Axes>"
      ]
     },
     "metadata": {},
     "output_type": "display_data"
    }
   ],
   "source": [
    "import pandas as pd\n",
    "import seaborn as sns\n",
    "import matplotlib.pyplot as plt\n",
    "\n",
    "# Đọc file CSV\n",
    "df = pd.read_csv(\"G:/DATA/nv3/country_wise_latest.csv\")\n",
    "\n",
    "# Chọn các cột số liệu (numeric columns)\n",
    "numeric_cols = df.select_dtypes(include=[\"number\"])\n",
    "\n",
    "# Tính ma trận tương quan\n",
    "correlation_matrix = numeric_cols.corr()\n",
    "\n",
    "# Vẽ biểu đồ heatmap\n",
    "plt.figure(figsize=(10, 8))\n",
    "sns.heatmap(correlation_matrix, annot=True, cmap=\"coolwarm\", fmt=\".2f\", cbar=True)\n",
    "plt.title(\"Correlation Heatmap\")\n",
    "plt.show()\n"
   ]
  }
 ],
 "metadata": {
  "kernelspec": {
   "display_name": "base",
   "language": "python",
   "name": "python3"
  },
  "language_info": {
   "codemirror_mode": {
    "name": "ipython",
    "version": 3
   },
   "file_extension": ".py",
   "mimetype": "text/x-python",
   "name": "python",
   "nbconvert_exporter": "python",
   "pygments_lexer": "ipython3",
   "version": "3.12.4"
  }
 },
 "nbformat": 4,
 "nbformat_minor": 2
}
